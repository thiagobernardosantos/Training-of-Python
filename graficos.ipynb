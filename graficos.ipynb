{
 "cells": [
  {
   "cell_type": "code",
   "execution_count": null,
   "metadata": {},
   "outputs": [
    {
     "ename": "",
     "evalue": "",
     "output_type": "error",
     "traceback": [
      "\u001b[1;31mRunning cells with 'Python 3.11.9' requires the ipykernel package.\n",
      "\u001b[1;31mRun the following command to install 'ipykernel' into the Python environment. \n",
      "\u001b[1;31mCommand: 'c:/Users/thiag_sds47gm/AppData/Local/Microsoft/WindowsApps/python3.11.exe -m pip install ipykernel -U --user --force-reinstall'"
     ]
    }
   ],
   "source": [
    "# existe uma biblioteca super fácil pra gente\n",
    "# plotar gráficos\n",
    "\n",
    "# eu importo a biblioteca e dou um \"apelido pra ela\"\n",
    "import matplotlib.pyplot as plt\n",
    "\n",
    "# quero que os gráficos sejam plotados no próprio colab\n",
    "%matplotlib inline\n"
   ]
  },
  {
   "cell_type": "code",
   "execution_count": null,
   "metadata": {},
   "outputs": [],
   "source": [
    "plt.plot(2,2,'.')\n",
    "plt.plot(-2,2,'x')\n",
    "plt.plot(-2,-2,'X')\n",
    "plt.plot(2,-2,'o')\n",
    "plt.axhline(0, color='black')\n",
    "plt.axvline(0, color='black')"
   ]
  },
  {
   "cell_type": "code",
   "execution_count": null,
   "metadata": {},
   "outputs": [],
   "source": [
    "# vamos tentar plotar listas\n",
    "x = [1,2,8,3,4]\n",
    "y = [9,7,2,4,3]\n",
    "plt.plot(x,y)"
   ]
  },
  {
   "cell_type": "code",
   "execution_count": null,
   "metadata": {},
   "outputs": [],
   "source": [
    "# pensando numa equacao do 2o grau\n",
    "x = [0.0, 0.1, 0.2, 0.3, 0.4, 0.5, 0.6, 0.7, 0.8, 0.9, 1.0, 1.1, 1.2, 1.3, 1.4, 1.5, 1.6, 1.7, 1.8, 1.9, 2.0]\n",
    "y = []\n",
    "for vX in x:\n",
    "  y.append(vX**2 - 2*vX + 1)\n",
    "\n",
    "plt.plot(x,y)"
   ]
  },
  {
   "cell_type": "code",
   "execution_count": null,
   "metadata": {},
   "outputs": [],
   "source": [
    "# trabalhoso ne? que tal, então se gerarmos objetos que contém estas listas?\n",
    "# sanos uma biblioteca chamada NUMPY\n",
    "import numpy as np\n"
   ]
  },
  {
   "cell_type": "code",
   "execution_count": null,
   "metadata": {},
   "outputs": [],
   "source": [
    "# como eu faria para gerar então a lista de pontos?\n",
    "x = np.arange(-5,5,0.1)\n",
    "y = x**2 - 2*x -1\n",
    "plt.plot(x,y)"
   ]
  },
  {
   "cell_type": "code",
   "execution_count": null,
   "metadata": {},
   "outputs": [],
   "source": [
    "# e se eu quiser plotar o gráfico da função SENO de 0 a 2PI?\n",
    "\n",
    "x = np.arange(0, 2*np.pi, 0.1)\n",
    "y1 = np.sin(x)\n",
    "y2 = np.cos(x)\n",
    "plt.plot(x,y1, color='green')\n",
    "plt.plot(x,y2, color='red')"
   ]
  },
  {
   "cell_type": "code",
   "execution_count": null,
   "metadata": {},
   "outputs": [],
   "source": [
    "# agora vamos dar um \"banho de loja\" no nosso gráfico\n",
    "\n",
    "x = np.arange(0, 2*np.pi, 0.1)\n",
    "y1 = np.sin(x)\n",
    "y2 = np.cos(x)\n",
    "# vou desenhar as linhas de grade para facilitar a leitura\n",
    "plt.grid()\n",
    "# vamos colocar titulo no grafico\n",
    "plt.title(\"Gráficos de Seno e Cosseno\")\n",
    "# titulos nos eixos\n",
    "plt.xlabel(\"Radianos\")\n",
    "plt.ylabel(\"Valores\")\n",
    "# vamos colocar legenda em cada gráfico?\n",
    "plt.plot(x,y1, color='green', label=\"sen\")\n",
    "plt.plot(x,y2, color='red', label=\"cos\")\n",
    "plt.legend()"
   ]
  },
  {
   "cell_type": "markdown",
   "metadata": {},
   "source": [
    "Exercícios: Faça gráficos para as seguintes funções (1 gráfico por função)\n",
    "\n",
    "f1(x) = raiz(226 - x^2) para x entre -15 e 15\n",
    "\n",
    "f2(x) = sen(x)*(sen(x)+cos(x))^2 para x entre -5 e 5\n",
    "\n",
    "f3(x) = x^3 -3x^2 + 100 (para x entre -5 e 2)"
   ]
  },
  {
   "cell_type": "code",
   "execution_count": null,
   "metadata": {},
   "outputs": [],
   "source": [
    "# f1(x) = raiz(226 - x^2) para x entre -15 e 15\n",
    "x = np.arange(-15, 15, 0.1)\n",
    "fx = np.sqrt(226 - x**2)\n",
    "plt.plot(x,fx)"
   ]
  },
  {
   "cell_type": "code",
   "execution_count": null,
   "metadata": {},
   "outputs": [],
   "source": [
    "# f2(x) = sen(x)*(sen(x)+cos(x))^2 para x entre -5 e 5\n",
    "x = np.arange(-5, 5, 0.1)\n",
    "fx = np.sin(x)*(np.sin(x)+np.cos(x))**2\n",
    "plt.plot(x,fx)"
   ]
  },
  {
   "cell_type": "code",
   "execution_count": null,
   "metadata": {},
   "outputs": [],
   "source": [
    "# f3(x) = x^3 -3x^2 + 100 (para x entre -5 e 2)\n",
    "x = np.arange(-5,2,0.1)\n",
    "fx = x**3 -3*x**2 + 100\n",
    "plt.plot(x,fx)"
   ]
  }
 ],
 "metadata": {
  "kernelspec": {
   "display_name": "Python 3",
   "language": "python",
   "name": "python3"
  },
  "language_info": {
   "name": "python",
   "version": "3.11.9"
  }
 },
 "nbformat": 4,
 "nbformat_minor": 2
}
